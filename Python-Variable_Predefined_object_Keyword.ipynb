{
 "cells": [
  {
   "cell_type": "code",
   "execution_count": 2,
   "id": "05485e55-3d7e-4e25-a1c5-4b789cf106cc",
   "metadata": {},
   "outputs": [
    {
     "name": "stdout",
     "output_type": "stream",
     "text": [
      "Hello world!!\n"
     ]
    }
   ],
   "source": [
    "print(\"Hello world!!\")"
   ]
  },
  {
   "cell_type": "code",
   "execution_count": 3,
   "id": "92bbb2c6-3ed8-49c6-97a7-0720bca32f1a",
   "metadata": {},
   "outputs": [],
   "source": [
    "a = 3"
   ]
  },
  {
   "cell_type": "code",
   "execution_count": 4,
   "id": "fadcc11e-ef33-4742-a1bf-d4563f744979",
   "metadata": {},
   "outputs": [
    {
     "data": {
      "text/plain": [
       "3"
      ]
     },
     "execution_count": 4,
     "metadata": {},
     "output_type": "execute_result"
    }
   ],
   "source": [
    "a"
   ]
  },
  {
   "cell_type": "raw",
   "id": "3675fd1b-aaee-4ee7-bb28-4943f6132f4e",
   "metadata": {},
   "source": [
    "variables/identifier  >> placeholders where we keep variety of data which we can use to write logic\n",
    "#Numbers >> Integer/float\n",
    "#characters >> String in python\n",
    "#True/False >> boolean\n",
    "#None\n",
    "#complex"
   ]
  },
  {
   "cell_type": "code",
   "execution_count": 5,
   "id": "7c94ea22-b6cb-4ac6-985d-c8c6a36f4d84",
   "metadata": {},
   "outputs": [
    {
     "data": {
      "text/plain": [
       "3"
      ]
     },
     "execution_count": 5,
     "metadata": {},
     "output_type": "execute_result"
    }
   ],
   "source": [
    "b = 3\n",
    "b"
   ]
  },
  {
   "cell_type": "raw",
   "id": "3fa47f95-ead9-442d-aff9-2af83cba274f",
   "metadata": {},
   "source": [
    "Variable is a reserved memory space for storing value"
   ]
  },
  {
   "cell_type": "raw",
   "id": "e9539b6c-cf91-46f3-bbdf-9c0c9ab1d039",
   "metadata": {},
   "source": [
    "a memory space will be created with value of the variable"
   ]
  },
  {
   "cell_type": "code",
   "execution_count": 7,
   "id": "bf3f2ae3-ad5e-4495-8deb-d8bc74bdd27e",
   "metadata": {},
   "outputs": [],
   "source": [
    "b = 4.5"
   ]
  },
  {
   "cell_type": "code",
   "execution_count": 8,
   "id": "e52c9ee3-2bd8-4f7b-9ed6-8e5b36818dfd",
   "metadata": {},
   "outputs": [
    {
     "data": {
      "text/plain": [
       "4.5"
      ]
     },
     "execution_count": 8,
     "metadata": {},
     "output_type": "execute_result"
    }
   ],
   "source": [
    "b"
   ]
  },
  {
   "cell_type": "code",
   "execution_count": 9,
   "id": "1f6121fa-33da-40f7-991c-c3c0a587389f",
   "metadata": {},
   "outputs": [],
   "source": [
    "c = \"Arun\""
   ]
  },
  {
   "cell_type": "code",
   "execution_count": 10,
   "id": "1ee926b5-1678-4c28-bed0-b11c8f801f73",
   "metadata": {},
   "outputs": [
    {
     "data": {
      "text/plain": [
       "'Arun'"
      ]
     },
     "execution_count": 10,
     "metadata": {},
     "output_type": "execute_result"
    }
   ],
   "source": [
    "c"
   ]
  },
  {
   "cell_type": "code",
   "execution_count": 11,
   "id": "42b5d991-a505-490f-ae50-1fc1238eec5d",
   "metadata": {},
   "outputs": [
    {
     "data": {
      "text/plain": [
       "str"
      ]
     },
     "execution_count": 11,
     "metadata": {},
     "output_type": "execute_result"
    }
   ],
   "source": [
    "type(c)"
   ]
  },
  {
   "cell_type": "code",
   "execution_count": 12,
   "id": "4ae56d0f-6658-44df-91eb-94808446c004",
   "metadata": {},
   "outputs": [
    {
     "data": {
      "text/plain": [
       "3"
      ]
     },
     "execution_count": 12,
     "metadata": {},
     "output_type": "execute_result"
    }
   ],
   "source": [
    "a = 3\n",
    "a"
   ]
  },
  {
   "cell_type": "code",
   "execution_count": 13,
   "id": "4ac69409-671b-43db-bb20-410538f53532",
   "metadata": {},
   "outputs": [
    {
     "data": {
      "text/plain": [
       "int"
      ]
     },
     "execution_count": 13,
     "metadata": {},
     "output_type": "execute_result"
    }
   ],
   "source": [
    "type(a)"
   ]
  },
  {
   "cell_type": "code",
   "execution_count": 15,
   "id": "cd5ccb91-81a4-4a84-90e8-d7b663fc293c",
   "metadata": {},
   "outputs": [],
   "source": [
    "b = 10.5"
   ]
  },
  {
   "cell_type": "code",
   "execution_count": 16,
   "id": "c26e972c-8272-49fd-967b-db5d16b699d7",
   "metadata": {},
   "outputs": [
    {
     "data": {
      "text/plain": [
       "10.5"
      ]
     },
     "execution_count": 16,
     "metadata": {},
     "output_type": "execute_result"
    }
   ],
   "source": [
    "b"
   ]
  },
  {
   "cell_type": "code",
   "execution_count": 17,
   "id": "25d30943-117e-483c-bb91-96269a55015e",
   "metadata": {},
   "outputs": [
    {
     "data": {
      "text/plain": [
       "float"
      ]
     },
     "execution_count": 17,
     "metadata": {},
     "output_type": "execute_result"
    }
   ],
   "source": [
    "type(b)"
   ]
  },
  {
   "cell_type": "code",
   "execution_count": 18,
   "id": "d9d2d57d-650a-4740-9e30-1dad778687d5",
   "metadata": {},
   "outputs": [],
   "source": [
    "c = True"
   ]
  },
  {
   "cell_type": "code",
   "execution_count": 19,
   "id": "db1f6d2e-2f72-4291-9dbc-d4357c7004f0",
   "metadata": {},
   "outputs": [
    {
     "data": {
      "text/plain": [
       "bool"
      ]
     },
     "execution_count": 19,
     "metadata": {},
     "output_type": "execute_result"
    }
   ],
   "source": [
    "type(c)"
   ]
  },
  {
   "cell_type": "code",
   "execution_count": 20,
   "id": "95ac17ac-2640-4fa9-b6d5-13e81cc581df",
   "metadata": {},
   "outputs": [],
   "source": [
    "d = False"
   ]
  },
  {
   "cell_type": "code",
   "execution_count": 21,
   "id": "ef88697e-473a-4091-961d-a3e6b73f7217",
   "metadata": {},
   "outputs": [
    {
     "data": {
      "text/plain": [
       "bool"
      ]
     },
     "execution_count": 21,
     "metadata": {},
     "output_type": "execute_result"
    }
   ],
   "source": [
    "type(d)"
   ]
  },
  {
   "cell_type": "code",
   "execution_count": 22,
   "id": "f046a6d3-168b-4af8-8df4-f301ecf59692",
   "metadata": {},
   "outputs": [
    {
     "data": {
      "text/plain": [
       "1"
      ]
     },
     "execution_count": 22,
     "metadata": {},
     "output_type": "execute_result"
    }
   ],
   "source": [
    "True - False"
   ]
  },
  {
   "cell_type": "code",
   "execution_count": 23,
   "id": "891b6133-c2e4-4489-baf3-655f5e78d18d",
   "metadata": {},
   "outputs": [
    {
     "data": {
      "text/plain": [
       "0"
      ]
     },
     "execution_count": 23,
     "metadata": {},
     "output_type": "execute_result"
    }
   ],
   "source": [
    "True * False"
   ]
  },
  {
   "cell_type": "raw",
   "id": "b2b0de5b-863a-4f56-beb0-f420d2859e90",
   "metadata": {},
   "source": [
    "True / False >> It will through an error"
   ]
  },
  {
   "cell_type": "code",
   "execution_count": 26,
   "id": "2d10ddab-12af-45d9-9f86-08f6f1d8854d",
   "metadata": {},
   "outputs": [],
   "source": [
    "f = None"
   ]
  },
  {
   "cell_type": "code",
   "execution_count": 27,
   "id": "bd0c66e6-e42a-4dda-9cee-efbaece70a01",
   "metadata": {},
   "outputs": [],
   "source": [
    "f"
   ]
  },
  {
   "cell_type": "code",
   "execution_count": 28,
   "id": "9d153828-2ec2-4772-83c5-a3f3d48eb822",
   "metadata": {},
   "outputs": [
    {
     "data": {
      "text/plain": [
       "NoneType"
      ]
     },
     "execution_count": 28,
     "metadata": {},
     "output_type": "execute_result"
    }
   ],
   "source": [
    "type(f)"
   ]
  },
  {
   "cell_type": "raw",
   "id": "6691b87a-bc63-4dbd-ac79-9e03a1945643",
   "metadata": {},
   "source": [
    "x + iy  >> complex number"
   ]
  },
  {
   "cell_type": "code",
   "execution_count": 29,
   "id": "e8ef695d-27be-4d4f-be79-5317fed9de8e",
   "metadata": {},
   "outputs": [],
   "source": [
    "com = 5+6j"
   ]
  },
  {
   "cell_type": "code",
   "execution_count": 30,
   "id": "86cffe0d-b1b8-45bf-9478-2ab882af80ce",
   "metadata": {},
   "outputs": [
    {
     "data": {
      "text/plain": [
       "complex"
      ]
     },
     "execution_count": 30,
     "metadata": {},
     "output_type": "execute_result"
    }
   ],
   "source": [
    "type(com)"
   ]
  },
  {
   "cell_type": "code",
   "execution_count": 31,
   "id": "7f9e66a1-4150-40f7-b4b2-1a50c81dadf0",
   "metadata": {},
   "outputs": [
    {
     "data": {
      "text/plain": [
       "(5+6j)"
      ]
     },
     "execution_count": 31,
     "metadata": {},
     "output_type": "execute_result"
    }
   ],
   "source": [
    "com"
   ]
  },
  {
   "cell_type": "code",
   "execution_count": 32,
   "id": "f23e69fa-8fc8-429a-8173-4b9ac33cd113",
   "metadata": {},
   "outputs": [
    {
     "data": {
      "text/plain": [
       "5.0"
      ]
     },
     "execution_count": 32,
     "metadata": {},
     "output_type": "execute_result"
    }
   ],
   "source": [
    "com.real"
   ]
  },
  {
   "cell_type": "code",
   "execution_count": 33,
   "id": "61ceef5a-2401-495b-95c0-15795103375f",
   "metadata": {},
   "outputs": [
    {
     "data": {
      "text/plain": [
       "6.0"
      ]
     },
     "execution_count": 33,
     "metadata": {},
     "output_type": "execute_result"
    }
   ],
   "source": [
    "com.imag"
   ]
  },
  {
   "cell_type": "raw",
   "id": "5d2c0cec-fb63-4f8f-99f3-3722925ea378",
   "metadata": {},
   "source": [
    "Rules of defining a variable  >> A variable is start with a letter(alphabet) or underscore character, it should not be keyword"
   ]
  },
  {
   "cell_type": "raw",
   "id": "eaeec648-e389-41b8-9342-8a8a20ee7d24",
   "metadata": {},
   "source": [
    "Invalid ways >"
   ]
  },
  {
   "cell_type": "code",
   "execution_count": 34,
   "id": "d3f88a01-d0c8-49c3-9cae-25349c963da4",
   "metadata": {},
   "outputs": [
    {
     "ename": "SyntaxError",
     "evalue": "cannot assign to literal here. Maybe you meant '==' instead of '='? (2414822714.py, line 1)",
     "output_type": "error",
     "traceback": [
      "\u001b[1;36m  Cell \u001b[1;32mIn[34], line 1\u001b[1;36m\u001b[0m\n\u001b[1;33m    5 = a\u001b[0m\n\u001b[1;37m    ^\u001b[0m\n\u001b[1;31mSyntaxError\u001b[0m\u001b[1;31m:\u001b[0m cannot assign to literal here. Maybe you meant '==' instead of '='?\n"
     ]
    }
   ],
   "source": [
    "5 = a"
   ]
  },
  {
   "cell_type": "code",
   "execution_count": 35,
   "id": "7ce99cd0-c0d9-44eb-beec-6b93901755b5",
   "metadata": {},
   "outputs": [
    {
     "ename": "SyntaxError",
     "evalue": "invalid decimal literal (3317533442.py, line 1)",
     "output_type": "error",
     "traceback": [
      "\u001b[1;36m  Cell \u001b[1;32mIn[35], line 1\u001b[1;36m\u001b[0m\n\u001b[1;33m    1name = \"Ram\"\u001b[0m\n\u001b[1;37m    ^\u001b[0m\n\u001b[1;31mSyntaxError\u001b[0m\u001b[1;31m:\u001b[0m invalid decimal literal\n"
     ]
    }
   ],
   "source": [
    "1name = \"Ram\""
   ]
  },
  {
   "cell_type": "code",
   "execution_count": 36,
   "id": "0348ed5d-b1f4-46c5-a40a-123cf759560f",
   "metadata": {},
   "outputs": [
    {
     "ename": "SyntaxError",
     "evalue": "cannot assign to literal here. Maybe you meant '==' instead of '='? (310222110.py, line 1)",
     "output_type": "error",
     "traceback": [
      "\u001b[1;36m  Cell \u001b[1;32mIn[36], line 1\u001b[1;36m\u001b[0m\n\u001b[1;33m    1 = abc\u001b[0m\n\u001b[1;37m    ^\u001b[0m\n\u001b[1;31mSyntaxError\u001b[0m\u001b[1;31m:\u001b[0m cannot assign to literal here. Maybe you meant '==' instead of '='?\n"
     ]
    }
   ],
   "source": [
    "1 = abc"
   ]
  },
  {
   "cell_type": "raw",
   "id": "4c471c35-08e5-4ba0-84ba-ad04a5d56a44",
   "metadata": {},
   "source": [
    "Valid ways  >"
   ]
  },
  {
   "cell_type": "code",
   "execution_count": 39,
   "id": "5b9984ec-e469-4495-a57e-79fcb3d90aee",
   "metadata": {},
   "outputs": [],
   "source": [
    "a = \"Arun\""
   ]
  },
  {
   "cell_type": "code",
   "execution_count": 40,
   "id": "891e555a-e018-48fa-a280-e40480eede04",
   "metadata": {},
   "outputs": [],
   "source": [
    "x = 5"
   ]
  },
  {
   "cell_type": "code",
   "execution_count": 41,
   "id": "136ee4d1-f3bb-4658-a5e7-807e320a52a4",
   "metadata": {},
   "outputs": [],
   "source": [
    "location = \"Mumbai\""
   ]
  },
  {
   "cell_type": "code",
   "execution_count": 42,
   "id": "92d6a4a4-8c88-4bbb-b7a7-a0ba8a5382a1",
   "metadata": {},
   "outputs": [],
   "source": [
    "_name = \"Arun\""
   ]
  },
  {
   "cell_type": "raw",
   "id": "2ac660e5-5aa0-483a-9a7c-8247e427328c",
   "metadata": {},
   "source": [
    "Invalid ways  >>"
   ]
  },
  {
   "cell_type": "code",
   "execution_count": 44,
   "id": "b94796d9-4871-4acb-b80f-e863174178c6",
   "metadata": {},
   "outputs": [
    {
     "ename": "SyntaxError",
     "evalue": "cannot assign to expression here. Maybe you meant '==' instead of '='? (4109927231.py, line 1)",
     "output_type": "error",
     "traceback": [
      "\u001b[1;36m  Cell \u001b[1;32mIn[44], line 1\u001b[1;36m\u001b[0m\n\u001b[1;33m    data - science = \"PW skills\"\u001b[0m\n\u001b[1;37m    ^\u001b[0m\n\u001b[1;31mSyntaxError\u001b[0m\u001b[1;31m:\u001b[0m cannot assign to expression here. Maybe you meant '==' instead of '='?\n"
     ]
    }
   ],
   "source": [
    "data - science = \"PW skills\""
   ]
  },
  {
   "cell_type": "code",
   "execution_count": 45,
   "id": "a28f6e01-2d8c-4125-8e0b-749370f3644f",
   "metadata": {},
   "outputs": [
    {
     "ename": "SyntaxError",
     "evalue": "invalid syntax (4276406262.py, line 1)",
     "output_type": "error",
     "traceback": [
      "\u001b[1;36m  Cell \u001b[1;32mIn[45], line 1\u001b[1;36m\u001b[0m\n\u001b[1;33m    dat analytics course  = \"pwskills\"\u001b[0m\n\u001b[1;37m        ^\u001b[0m\n\u001b[1;31mSyntaxError\u001b[0m\u001b[1;31m:\u001b[0m invalid syntax\n"
     ]
    }
   ],
   "source": [
    "data analytics course  = \"pwskills\""
   ]
  },
  {
   "cell_type": "raw",
   "id": "224f1a75-19e4-4a89-8e3f-2b3b4963df74",
   "metadata": {},
   "source": [
    "valid ways >>"
   ]
  },
  {
   "cell_type": "code",
   "execution_count": 46,
   "id": "073aad55-1df7-45d9-9abe-cefe2e9966c8",
   "metadata": {},
   "outputs": [],
   "source": [
    "dat_analytics_course = \"pwskills\""
   ]
  },
  {
   "cell_type": "raw",
   "id": "e96fff9a-9f8a-4484-84a0-1f449e96b5d9",
   "metadata": {},
   "source": [
    "Comments:"
   ]
  },
  {
   "cell_type": "code",
   "execution_count": 47,
   "id": "acfbda64-f6ec-4d48-9274-d2ff35b72799",
   "metadata": {},
   "outputs": [],
   "source": [
    "#this is way to define comments\n",
    "a=3\n",
    "b=5.5"
   ]
  },
  {
   "cell_type": "code",
   "execution_count": 48,
   "id": "2e4bb896-e55e-435a-9739-ef5cafba6aa9",
   "metadata": {},
   "outputs": [],
   "source": [
    "#This is my first line of comment\n",
    "#This is second line of comment\n",
    "a = 4"
   ]
  },
  {
   "cell_type": "code",
   "execution_count": 49,
   "id": "8b23744a-1d00-42bd-8f8f-ea2adfb92dda",
   "metadata": {},
   "outputs": [
    {
     "data": {
      "text/plain": [
       "5"
      ]
     },
     "execution_count": 49,
     "metadata": {},
     "output_type": "execute_result"
    }
   ],
   "source": [
    "# Multiline comments\n",
    "'''\n",
    "This is a multiline comments\n",
    "I am learning data analytics course\n",
    "I am enjoying\n",
    "'''\n",
    "a=5\n",
    "a"
   ]
  },
  {
   "cell_type": "code",
   "execution_count": 50,
   "id": "232035ca-3333-433d-ad74-d4e9586c1281",
   "metadata": {},
   "outputs": [
    {
     "data": {
      "text/plain": [
       "5"
      ]
     },
     "execution_count": 50,
     "metadata": {},
     "output_type": "execute_result"
    }
   ],
   "source": [
    "\"\"\"\n",
    "This is a multiline comments\n",
    "I am learning data analytics course\n",
    "I am enjoying\n",
    "\"\"\"\n",
    "a=5\n",
    "a"
   ]
  },
  {
   "cell_type": "code",
   "execution_count": 52,
   "id": "cd998f78-110d-46ae-8933-744bdd7534a8",
   "metadata": {},
   "outputs": [
    {
     "name": "stdout",
     "output_type": "stream",
     "text": [
      "Hello World\n"
     ]
    },
    {
     "data": {
      "text/plain": [
       "int"
      ]
     },
     "execution_count": 52,
     "metadata": {},
     "output_type": "execute_result"
    }
   ],
   "source": [
    "print(\"Hello World\")\n",
    "type(a)"
   ]
  },
  {
   "cell_type": "code",
   "execution_count": 53,
   "id": "817d5b9b-cc44-43cb-be18-ff4ffb267e39",
   "metadata": {},
   "outputs": [],
   "source": [
    "#Keyword  >>  are predefined words that hold a special meaning and have specific purpose in python"
   ]
  },
  {
   "cell_type": "code",
   "execution_count": 56,
   "id": "e702cb05-65c4-4905-ac9b-21234382a4ed",
   "metadata": {},
   "outputs": [
    {
     "name": "stdout",
     "output_type": "stream",
     "text": [
      "\n",
      "Here is a list of the Python keywords.  Enter any keyword to get more help.\n",
      "\n",
      "False               class               from                or\n",
      "None                continue            global              pass\n",
      "True                def                 if                  raise\n",
      "and                 del                 import              return\n",
      "as                  elif                in                  try\n",
      "assert              else                is                  while\n",
      "async               except              lambda              with\n",
      "await               finally             nonlocal            yield\n",
      "break               for                 not                 \n",
      "\n"
     ]
    }
   ],
   "source": [
    "help(\"keywords\")"
   ]
  },
  {
   "cell_type": "code",
   "execution_count": 57,
   "id": "d0c14a4e-ba67-4138-bca1-14b30ecb1e19",
   "metadata": {},
   "outputs": [
    {
     "name": "stdout",
     "output_type": "stream",
     "text": [
      "Greater\n"
     ]
    }
   ],
   "source": [
    "#Indentation  >> make code more readable\n",
    "if 3 > 2:\n",
    "    print(\"Greater\")"
   ]
  },
  {
   "cell_type": "code",
   "execution_count": 58,
   "id": "6f39c0f0-3de2-4750-bce5-971ce35f1e07",
   "metadata": {},
   "outputs": [],
   "source": [
    "a = 3  # statement  >  fundamental block of code\n",
    "name = \"Arun\"\n",
    "\n",
    "# Statement can be of many types >> expression, assignment, condition statement, loop"
   ]
  },
  {
   "cell_type": "code",
   "execution_count": 59,
   "id": "b63bb3d9-041d-4bff-8e00-b5117b358ab3",
   "metadata": {},
   "outputs": [],
   "source": [
    "# assignment statement\n",
    "a = 5"
   ]
  },
  {
   "cell_type": "code",
   "execution_count": 60,
   "id": "d24a95c8-ebd3-4edd-9d1e-46dcfa6757dd",
   "metadata": {},
   "outputs": [
    {
     "data": {
      "text/plain": [
       "9"
      ]
     },
     "execution_count": 60,
     "metadata": {},
     "output_type": "execute_result"
    }
   ],
   "source": [
    "a = 5 #assignment\n",
    "b = 4 #assignment\n",
    "a + b #expression statement"
   ]
  },
  {
   "cell_type": "code",
   "execution_count": 63,
   "id": "b80c176d-6a31-44c3-8c68-062649493081",
   "metadata": {},
   "outputs": [
    {
     "name": "stdin",
     "output_type": "stream",
     "text": [
      "please enter your name:  Arun\n"
     ]
    }
   ],
   "source": [
    "# input output >> If you want some user to give value of variable\n",
    "Name = input(\"please enter your name: \")"
   ]
  },
  {
   "cell_type": "code",
   "execution_count": 64,
   "id": "1d7b81a0-56d6-4162-8459-0e64c03d0d86",
   "metadata": {},
   "outputs": [
    {
     "data": {
      "text/plain": [
       "'Arun'"
      ]
     },
     "execution_count": 64,
     "metadata": {},
     "output_type": "execute_result"
    }
   ],
   "source": [
    "name"
   ]
  },
  {
   "cell_type": "code",
   "execution_count": 71,
   "id": "465ea8a6-83c9-4acd-860c-01d7c0b4f7d9",
   "metadata": {},
   "outputs": [
    {
     "name": "stdin",
     "output_type": "stream",
     "text": [
      "please enter your name:  2\n"
     ]
    }
   ],
   "source": [
    "name = input(\"please enter your name: \")"
   ]
  },
  {
   "cell_type": "code",
   "execution_count": 72,
   "id": "4dc223e4-3ffe-4701-be9b-6d08d21a9427",
   "metadata": {},
   "outputs": [
    {
     "data": {
      "text/plain": [
       "str"
      ]
     },
     "execution_count": 72,
     "metadata": {},
     "output_type": "execute_result"
    }
   ],
   "source": [
    "type(name)"
   ]
  },
  {
   "cell_type": "code",
   "execution_count": 68,
   "id": "17b05cb5-d547-46ac-b821-a88965645150",
   "metadata": {},
   "outputs": [],
   "source": [
    "#input actually take every value as a string\n",
    "#we can convert '2' as int"
   ]
  },
  {
   "cell_type": "code",
   "execution_count": 69,
   "id": "f88b5f28-983a-4dab-b168-773998721349",
   "metadata": {},
   "outputs": [],
   "source": [
    "# Type Casting  >  cast means to change the format"
   ]
  },
  {
   "cell_type": "code",
   "execution_count": 74,
   "id": "090078d4-3756-4ff1-9793-a3364503f188",
   "metadata": {},
   "outputs": [],
   "source": [
    "name  = int(name)"
   ]
  },
  {
   "cell_type": "code",
   "execution_count": 75,
   "id": "c62ceee0-c0a9-4e6f-b548-44f94cc9bc13",
   "metadata": {},
   "outputs": [
    {
     "data": {
      "text/plain": [
       "int"
      ]
     },
     "execution_count": 75,
     "metadata": {},
     "output_type": "execute_result"
    }
   ],
   "source": [
    "type(name)"
   ]
  },
  {
   "cell_type": "code",
   "execution_count": 76,
   "id": "a85eda92-d57c-48ce-8db5-4884fba46325",
   "metadata": {},
   "outputs": [
    {
     "data": {
      "text/plain": [
       "str"
      ]
     },
     "execution_count": 76,
     "metadata": {},
     "output_type": "execute_result"
    }
   ],
   "source": [
    "a = \"3.5\"\n",
    "type(a)"
   ]
  },
  {
   "cell_type": "code",
   "execution_count": 78,
   "id": "72957204-9488-4b02-8688-7964e980c4f5",
   "metadata": {},
   "outputs": [
    {
     "data": {
      "text/plain": [
       "float"
      ]
     },
     "execution_count": 78,
     "metadata": {},
     "output_type": "execute_result"
    }
   ],
   "source": [
    "type(float(a))"
   ]
  },
  {
   "cell_type": "code",
   "execution_count": null,
   "id": "f0ae47d9-856a-4c7d-a7f5-5f00defc32ed",
   "metadata": {},
   "outputs": [],
   "source": []
  },
  {
   "cell_type": "code",
   "execution_count": 80,
   "id": "70bbd888-93c8-4a02-b152-ccfeb087b062",
   "metadata": {},
   "outputs": [
    {
     "data": {
      "text/plain": [
       "int"
      ]
     },
     "execution_count": 80,
     "metadata": {},
     "output_type": "execute_result"
    }
   ],
   "source": [
    "a = 121\n",
    "type(a)"
   ]
  },
  {
   "cell_type": "code",
   "execution_count": 83,
   "id": "eb448e69-2696-4ae7-b806-034c35b15fbb",
   "metadata": {},
   "outputs": [
    {
     "data": {
      "text/plain": [
       "str"
      ]
     },
     "execution_count": 83,
     "metadata": {},
     "output_type": "execute_result"
    }
   ],
   "source": [
    "type(str(a))"
   ]
  },
  {
   "cell_type": "code",
   "execution_count": 84,
   "id": "33256db5-bb93-466f-9021-85c38c6a7696",
   "metadata": {},
   "outputs": [
    {
     "data": {
      "text/plain": [
       "False"
      ]
     },
     "execution_count": 84,
     "metadata": {},
     "output_type": "execute_result"
    }
   ],
   "source": [
    "bool(0)"
   ]
  },
  {
   "cell_type": "code",
   "execution_count": 85,
   "id": "dd34bbfa-c79f-46ba-9626-b4072141fcf4",
   "metadata": {},
   "outputs": [
    {
     "data": {
      "text/plain": [
       "True"
      ]
     },
     "execution_count": 85,
     "metadata": {},
     "output_type": "execute_result"
    }
   ],
   "source": [
    "bool(1)"
   ]
  },
  {
   "cell_type": "code",
   "execution_count": 86,
   "id": "7238c784-0c4d-45d0-bfed-3ba235860bb6",
   "metadata": {},
   "outputs": [],
   "source": [
    "# python is a case sensitive programmiing language\n",
    "a=5\n",
    "A=15"
   ]
  },
  {
   "cell_type": "code",
   "execution_count": 87,
   "id": "c0e7ed11-2c7d-4300-b881-fc11f9964917",
   "metadata": {},
   "outputs": [
    {
     "data": {
      "text/plain": [
       "5"
      ]
     },
     "execution_count": 87,
     "metadata": {},
     "output_type": "execute_result"
    }
   ],
   "source": [
    "a"
   ]
  },
  {
   "cell_type": "code",
   "execution_count": 88,
   "id": "716252c2-72a7-49ca-bed9-15901a1a1b19",
   "metadata": {},
   "outputs": [
    {
     "data": {
      "text/plain": [
       "15"
      ]
     },
     "execution_count": 88,
     "metadata": {},
     "output_type": "execute_result"
    }
   ],
   "source": [
    "A"
   ]
  },
  {
   "cell_type": "code",
   "execution_count": 89,
   "id": "be4f0fc2-426e-48cf-94e8-8aa7f3ee0da3",
   "metadata": {},
   "outputs": [
    {
     "name": "stdout",
     "output_type": "stream",
     "text": [
      "Hello\n"
     ]
    }
   ],
   "source": [
    "#variables can not be keywords\n",
    "print(\"Hello\")"
   ]
  },
  {
   "cell_type": "code",
   "execution_count": 90,
   "id": "646196a8-6cd1-4bf0-b67f-7088dff527a4",
   "metadata": {},
   "outputs": [],
   "source": [
    "print = \"Arun\""
   ]
  },
  {
   "cell_type": "code",
   "execution_count": 92,
   "id": "66fdc3f4-60dc-4dfb-b90d-a4fe56330c04",
   "metadata": {},
   "outputs": [
    {
     "ename": "TypeError",
     "evalue": "'str' object is not callable",
     "output_type": "error",
     "traceback": [
      "\u001b[1;31m---------------------------------------------------------------------------\u001b[0m",
      "\u001b[1;31mTypeError\u001b[0m                                 Traceback (most recent call last)",
      "Cell \u001b[1;32mIn[92], line 1\u001b[0m\n\u001b[1;32m----> 1\u001b[0m \u001b[38;5;28;43mprint\u001b[39;49m\u001b[43m(\u001b[49m\u001b[38;5;124;43m\"\u001b[39;49m\u001b[38;5;124;43mworld\u001b[39;49m\u001b[38;5;124;43m\"\u001b[39;49m\u001b[43m)\u001b[49m\n",
      "\u001b[1;31mTypeError\u001b[0m: 'str' object is not callable"
     ]
    }
   ],
   "source": [
    "print(\"world\")"
   ]
  },
  {
   "cell_type": "code",
   "execution_count": null,
   "id": "dca506ad-300a-424b-abd3-2a1e3ebb387d",
   "metadata": {},
   "outputs": [],
   "source": []
  }
 ],
 "metadata": {
  "kernelspec": {
   "display_name": "Python 3 (ipykernel)",
   "language": "python",
   "name": "python3"
  },
  "language_info": {
   "codemirror_mode": {
    "name": "ipython",
    "version": 3
   },
   "file_extension": ".py",
   "mimetype": "text/x-python",
   "name": "python",
   "nbconvert_exporter": "python",
   "pygments_lexer": "ipython3",
   "version": "3.12.3"
  }
 },
 "nbformat": 4,
 "nbformat_minor": 5
}
